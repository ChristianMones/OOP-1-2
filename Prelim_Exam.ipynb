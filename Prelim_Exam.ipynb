{
  "nbformat": 4,
  "nbformat_minor": 0,
  "metadata": {
    "colab": {
      "name": "Prelim Exam.ipynb",
      "provenance": [],
      "authorship_tag": "ABX9TyPOxdc1HEMvQ0n6vI2eRQSe",
      "include_colab_link": true
    },
    "kernelspec": {
      "name": "python3",
      "display_name": "Python 3"
    },
    "language_info": {
      "name": "python"
    }
  },
  "cells": [
    {
      "cell_type": "markdown",
      "metadata": {
        "id": "view-in-github",
        "colab_type": "text"
      },
      "source": [
        "<a href=\"https://colab.research.google.com/github/ChristianMones/OOP-1-2/blob/main/Prelim_Exam.ipynb\" target=\"_parent\"><img src=\"https://colab.research.google.com/assets/colab-badge.svg\" alt=\"Open In Colab\"/></a>"
      ]
    },
    {
      "cell_type": "markdown",
      "source": [
        "Problem 2"
      ],
      "metadata": {
        "id": "_8_ipEJRWQHE"
      }
    },
    {
      "cell_type": "code",
      "execution_count": 1,
      "metadata": {
        "colab": {
          "base_uri": "https://localhost:8080/"
        },
        "id": "ooN4o8JvWKH2",
        "outputId": "e7d2ff5b-1f8b-4ace-b9d0-8df0033e4a34"
      },
      "outputs": [
        {
          "output_type": "stream",
          "name": "stdout",
          "text": [
            "Name: Christian Angelo A. Mones\n",
            "Student No: 20210510\n",
            "Age 18\n",
            "School: Cavite State University\n",
            "Course: Bachelor of Science in Computer Engineering\n"
          ]
        }
      ],
      "source": [
        "class Student:\n",
        "  def __init__(self, Name, Student_No,Age,School,Course):\n",
        "    self.Name=Name\n",
        "    self.Student_No=Student_No\n",
        "    self.Age=Age\n",
        "    self.School=School\n",
        "    self.Course=Course\n",
        "\n",
        "  def Info(self):\n",
        "    print('Name:',self.Name)\n",
        "    print('Student No:',self.Student_No)\n",
        "    print('Age',self.Age)\n",
        "    print('School:',self.School)\n",
        "    print('Course:',self.Course)\n",
        "\n",
        "Myself=Student('Christian Angelo A. Mones',20210510,18,'Cavite State University','Bachelor of Science in Computer Engineering')\n",
        "\n",
        "Myself.Info()"
      ]
    }
  ]
}