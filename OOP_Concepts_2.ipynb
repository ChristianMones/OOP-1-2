{
  "nbformat": 4,
  "nbformat_minor": 0,
  "metadata": {
    "colab": {
      "name": "OOP Concepts 2.ipynb",
      "provenance": [],
      "collapsed_sections": [],
      "authorship_tag": "ABX9TyNBhRQYVsf1RlzPYQY1i5mg",
      "include_colab_link": true
    },
    "kernelspec": {
      "name": "python3",
      "display_name": "Python 3"
    },
    "language_info": {
      "name": "python"
    }
  },
  "cells": [
    {
      "cell_type": "markdown",
      "metadata": {
        "id": "view-in-github",
        "colab_type": "text"
      },
      "source": [
        "<a href=\"https://colab.research.google.com/github/ChristianMones/OOP-1-2/blob/main/OOP_Concepts_2.ipynb\" target=\"_parent\"><img src=\"https://colab.research.google.com/assets/colab-badge.svg\" alt=\"Open In Colab\"/></a>"
      ]
    },
    {
      "cell_type": "markdown",
      "source": [
        "Classes with Multiple Objects"
      ],
      "metadata": {
        "id": "QM_If6ZhVO_L"
      }
    },
    {
      "cell_type": "code",
      "execution_count": null,
      "metadata": {
        "colab": {
          "base_uri": "https://localhost:8080/"
        },
        "id": "sHlsCZQ2VMYe",
        "outputId": "12e7b149-7079-408d-cc3a-fde6236d6b9f"
      },
      "outputs": [
        {
          "output_type": "stream",
          "name": "stdout",
          "text": [
            "Griffon Vulture flies above the sky\n",
            "Common Crane flies above the sky\n",
            "Emu is the national bird of the Philippines\n"
          ]
        }
      ],
      "source": [
        "class Birds:\n",
        "  def __init__(self, bird_name):\n",
        "    self.bird_name=bird_name\n",
        "\n",
        "  def flying_birds(self):\n",
        "    print(f\"{self.bird_name} flies above the sky\")\n",
        "\n",
        "  def non_flying_birds(self):\n",
        "    print(f\"{self.bird_name} is the national bird of the Philippines\")\n",
        "\n",
        "vulture=Birds(\"Griffon Vulture\")\n",
        "crane=Birds(\"Common Crane\")\n",
        "emu=Birds(\"Emu\")\n",
        "\n",
        "vulture.flying_birds()\n",
        "crane.flying_birds()\n",
        "emu.non_flying_birds()"
      ]
    },
    {
      "cell_type": "markdown",
      "source": [
        "Encapsulation using mangling with double underscores"
      ],
      "metadata": {
        "id": "SXUU9XF_XSKB"
      }
    },
    {
      "cell_type": "code",
      "source": [
        "class foo:\n",
        "  def __init__(self,a,b):\n",
        "    self.__a=a\n",
        "    self.__b=b\n",
        "\n",
        "  def add(self):\n",
        "    return self.__a + self.__b  #Private attributes\n",
        "\n",
        "number=foo(3,4)\n",
        "number.add()\n",
        "\n",
        "number.a=7  #7+4=11\n",
        "number.add()"
      ],
      "metadata": {
        "colab": {
          "base_uri": "https://localhost:8080/"
        },
        "id": "aRimgHKXXULY",
        "outputId": "d92c24df-d3e4-413e-fc8f-23b233dc31f0"
      },
      "execution_count": null,
      "outputs": [
        {
          "output_type": "execute_result",
          "data": {
            "text/plain": [
              "7"
            ]
          },
          "metadata": {},
          "execution_count": 5
        }
      ]
    },
    {
      "cell_type": "markdown",
      "source": [
        "Encapsulation with Private Attributes"
      ],
      "metadata": {
        "id": "H5su5iMfZcBB"
      }
    },
    {
      "cell_type": "code",
      "source": [
        "class Counter:\n",
        "  def __init__(self):\n",
        "    self.current=0\n",
        "\n",
        "  def increment(self):\n",
        "    self.current+=1\n",
        "\n",
        "  def value(self):\n",
        "    return self.current\n",
        "\n",
        "  def reset(self):\n",
        "    self.current=0\n",
        "\n",
        "num=Counter()\n",
        "num.increment()   #counter+=1\n",
        "num.increment()\n",
        "num.increment()\n",
        "\n",
        "\n",
        "num.value()"
      ],
      "metadata": {
        "colab": {
          "base_uri": "https://localhost:8080/"
        },
        "id": "CibPiGg4ZfTx",
        "outputId": "4a252868-84c7-40a1-fb31-831a484ae736"
      },
      "execution_count": null,
      "outputs": [
        {
          "output_type": "execute_result",
          "data": {
            "text/plain": [
              "3"
            ]
          },
          "metadata": {},
          "execution_count": 14
        }
      ]
    },
    {
      "cell_type": "code",
      "source": [
        "class Counter:\n",
        "  def __init__(self):\n",
        "    self.__current=0\n",
        "  \n",
        "  def increment(self):\n",
        "    self.__current+=1\n",
        "\n",
        "  def value(self):\n",
        "    return self.__current\n",
        "\n",
        "  def reset(self):\n",
        "    self.__current=0\n",
        "\n",
        "num=Counter()\n",
        "num.increment()\n",
        "num.increment()\n",
        "num.increment()\n",
        "\n",
        "num.value()"
      ],
      "metadata": {
        "colab": {
          "base_uri": "https://localhost:8080/"
        },
        "id": "EbJQLEg8alZZ",
        "outputId": "0335af7e-8784-4e34-b46d-de8fc8660789"
      },
      "execution_count": null,
      "outputs": [
        {
          "output_type": "execute_result",
          "data": {
            "text/plain": [
              "3"
            ]
          },
          "metadata": {},
          "execution_count": 9
        }
      ]
    },
    {
      "cell_type": "markdown",
      "source": [
        "Inheritance"
      ],
      "metadata": {
        "id": "jG0TEJnWdTVk"
      }
    },
    {
      "cell_type": "code",
      "source": [
        "class Person:\n",
        "  def __init__(self, firstname, surname):\n",
        "    self.firstname=firstname\n",
        "    self.surname=surname\n",
        "\n",
        "  def printname(self):\n",
        "    print(self.firstname,self.surname)\n",
        "\n",
        "person=Person(\"Ana\",\"Santos\")\n",
        "person.printname()\n",
        "\n",
        "class Teacher(Person):\n",
        "  pass\n",
        "\n",
        "person2=Teacher(\"Maria\",\"Sayo\")\n",
        "person2.printname()\n",
        "\n",
        "class Student(Person):\n",
        "  pass\n",
        "\n",
        "person3= Student(\"Christian\", \"Mones\")\n",
        "person3.printname()"
      ],
      "metadata": {
        "colab": {
          "base_uri": "https://localhost:8080/"
        },
        "id": "_X91SpSIdVDs",
        "outputId": "4d8d5ec5-20f2-446d-f5a8-452944e8b89b"
      },
      "execution_count": null,
      "outputs": [
        {
          "output_type": "stream",
          "name": "stdout",
          "text": [
            "Ana Santos\n",
            "Maria Sayo\n",
            "Christian Mones\n"
          ]
        }
      ]
    },
    {
      "cell_type": "markdown",
      "source": [
        "Polymorphism"
      ],
      "metadata": {
        "id": "ve2lxlQ9fK6a"
      }
    },
    {
      "cell_type": "code",
      "source": [
        "class RegularPolygon:\n",
        "    def __init__(self,side):\n",
        "        self.side = side\n",
        "class Square(RegularPolygon):\n",
        "    def area(self):\n",
        "        return self.side * self.side\n",
        "class EquilateralTriangle(RegularPolygon):\n",
        "    def area(self):\n",
        "        return self.side * self.side * 0.433\n",
        "\n",
        "object=Square(4)\n",
        "print(object.area())\n",
        "\n",
        "object2= EquilateralTriangle(3)\n",
        "print(object2.area())"
      ],
      "metadata": {
        "colab": {
          "base_uri": "https://localhost:8080/"
        },
        "id": "CZZYARY3fNPL",
        "outputId": "1b18b768-4949-4a7a-a051-fd4797ed3d07"
      },
      "execution_count": null,
      "outputs": [
        {
          "output_type": "stream",
          "name": "stdout",
          "text": [
            "16\n",
            "3.897\n"
          ]
        }
      ]
    },
    {
      "cell_type": "markdown",
      "source": [
        "Application 1"
      ],
      "metadata": {
        "id": "Vcozl2TChnGM"
      }
    },
    {
      "cell_type": "markdown",
      "source": [
        "1. Create a Python program that displays the name of 3 students (Student 1-3) and their term grades.\n",
        "2. Create a class name Person and attributes - std1-3, pre, mid, fin\n",
        "3. Compute the average of each term grade using Grade() method.\n",
        "4. Information about student's grades must be hidden from others."
      ],
      "metadata": {
        "id": "o2HOQ2crhw_F"
      }
    },
    {
      "cell_type": "code",
      "source": [
        "class Person:\n",
        "  def __init__(self,std1,std2,std3,pre,mid,fin):\n",
        "    self.std1=std1\n",
        "    self.std2=std2\n",
        "    self.std3=std3\n",
        "    self.pre=pre\n",
        "    self.mid=mid\n",
        "    self.fin=fin\n",
        "  \n",
        "class Student1(Person):\n",
        "    def Grade(self):\n",
        "      print(\"Student:\",self.std1)\n",
        "      print(\"Preliminary:\",self.pre)\n",
        "      print(\"Midterm:\",self.mid)\n",
        "      print(\"Finals:\",self.fin)\n",
        "      print(\"Average:\",round((self.pre+self.mid+self.fin)/3,2))\n",
        "\n",
        "class Student2(Person):\n",
        "    def Grade(self):\n",
        "      print(\"Student:\",self.std2)\n",
        "      print(\"Preliminary:\",self.pre)\n",
        "      print(\"Midterm:\",self.mid)\n",
        "      print(\"Finals:\",self.fin)\n",
        "      print(\"Average:\",round((self.pre+self.mid+self.fin)/3,2))\n",
        "\n",
        "class Student3(Person):\n",
        "    def Grade(self):\n",
        "      print(\"Student:\",self.std3)\n",
        "      print(\"Preliminary:\",self.pre)\n",
        "      print(\"Midterm:\",self.mid)\n",
        "      print(\"Finals:\",self.fin)\n",
        "      print(\"Average:\",round((self.pre+self.mid+self.fin)/3,2))\n",
        "\n",
        "stu=input(str(\"Student 1, 2 or 3? \"))\n",
        "if stu==\"1\":\n",
        "  Stu=Student1(\"Student 1\",\"Student 2\",\"Student 3\",98,94,99)\n",
        "  Stu.Grade()\n",
        "elif stu==\"2\":\n",
        "  Stu=Student2(\"Student 1\",\"Student 2\",\"Student 3\",88,98,92)\n",
        "  Stu.Grade()\n",
        "elif stu==\"3\":\n",
        "  Stu=Student3(\"Student 1\",\"Student 2\",\"Student 3\",93,99,92)\n",
        "  Stu.Grade()\n",
        "else:\n",
        "  print(\"Student is unknown.\")"
      ],
      "metadata": {
        "id": "By8J7tE7hwT9",
        "colab": {
          "base_uri": "https://localhost:8080/"
        },
        "outputId": "b7cc9707-fb71-4199-ee42-cef0c570ada7"
      },
      "execution_count": 16,
      "outputs": [
        {
          "output_type": "stream",
          "name": "stdout",
          "text": [
            "Student 1, 2 or 3? 3\n",
            "Student: Student 3\n",
            "Preliminary: 93\n",
            "Midterm: 99\n",
            "Finals: 92\n",
            "Average: 94.67\n"
          ]
        }
      ]
    }
  ]
}