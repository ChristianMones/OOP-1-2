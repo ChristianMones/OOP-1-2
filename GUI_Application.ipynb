{
  "nbformat": 4,
  "nbformat_minor": 0,
  "metadata": {
    "colab": {
      "name": "GUI Application.ipynb",
      "provenance": [],
      "authorship_tag": "ABX9TyMbKAB6SzD4sqeA1IIh4nDs",
      "include_colab_link": true
    },
    "kernelspec": {
      "name": "python3",
      "display_name": "Python 3"
    },
    "language_info": {
      "name": "python"
    }
  },
  "cells": [
    {
      "cell_type": "markdown",
      "metadata": {
        "id": "view-in-github",
        "colab_type": "text"
      },
      "source": [
        "<a href=\"https://colab.research.google.com/github/ChristianMones/OOP-1-2/blob/main/GUI_Application.ipynb\" target=\"_parent\"><img src=\"https://colab.research.google.com/assets/colab-badge.svg\" alt=\"Open In Colab\"/></a>"
      ]
    },
    {
      "cell_type": "code",
      "execution_count": 18,
      "metadata": {
        "id": "5L0MalqUuZty",
        "colab": {
          "base_uri": "https://localhost:8080/"
        },
        "outputId": "a2baac9f-89bb-4e9f-cd78-92ddfb82fa15"
      },
      "outputs": [
        {
          "output_type": "stream",
          "name": "stdout",
          "text": [
            "The prelim grade of student 1 is 90\n",
            "The midterm grade of student 1 is 95\n",
            "The finals grade of student 1 is 100\n",
            "The semestral grade of student 1 is 95.0\n",
            "His gender is Male\n"
          ]
        }
      ],
      "source": [
        "#@title Students Grade in OOP\n",
        "\n",
        "Student_Name1 = 'Enter the student name' #@param {type:\"string\"}\n",
        "prelim =  90#@param {type:\"number\"}\n",
        "midterm =  95#@param {type:\"number\"}\n",
        "finals = 100 #@param {type:\"number\"}\n",
        "semestral_grade = (prelim+midterm+finals)/3\n",
        "\n",
        "print(\"The prelim grade of student 1 is \"+\"\"+str(prelim))\n",
        "print(\"The midterm grade of student 1 is \"+\"\"+str(midterm))\n",
        "print(\"The finals grade of student 1 is \"+\"\"+str(finals))\n",
        "print(\"The semestral grade of student 1 is \"+\"\"+str(semestral_grade))\n",
        "\n",
        "#@title Gender\n",
        "Gender = \"Male\" #@param [\"Male\",\"Female\"]\n",
        "print(\"His gender is \"+ Gender)\n",
        "\n",
        "Birthdate = '2022-04-07' #@param{type:'date'}"
      ]
    }
  ]
}