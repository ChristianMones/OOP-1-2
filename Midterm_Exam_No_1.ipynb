{
  "nbformat": 4,
  "nbformat_minor": 0,
  "metadata": {
    "colab": {
      "name": "Midterm Exam No. 1",
      "provenance": [],
      "authorship_tag": "ABX9TyNqI4W34zeIVjCrsTeK4dgk",
      "include_colab_link": true
    },
    "kernelspec": {
      "name": "python3",
      "display_name": "Python 3"
    },
    "language_info": {
      "name": "python"
    }
  },
  "cells": [
    {
      "cell_type": "markdown",
      "metadata": {
        "id": "view-in-github",
        "colab_type": "text"
      },
      "source": [
        "<a href=\"https://colab.research.google.com/github/ChristianMones/OOP-1-2/blob/main/Midterm_Exam_No_1.ipynb\" target=\"_parent\"><img src=\"https://colab.research.google.com/assets/colab-badge.svg\" alt=\"Open In Colab\"/></a>"
      ]
    },
    {
      "cell_type": "code",
      "execution_count": null,
      "metadata": {
        "colab": {
          "base_uri": "https://localhost:8080/"
        },
        "id": "R49it1NxkQh-",
        "outputId": "3a4cf9cc-3027-41b7-f973-ea2086174dc9"
      },
      "outputs": [
        {
          "output_type": "stream",
          "name": "stdout",
          "text": [
            "Enter the temperature in Celsius:12\n",
            "285.15 Kelvin\n",
            "12.0 Celsius\n",
            "53.6 Fahrenheit\n",
            "12.000000000000002 Celsius\n"
          ]
        }
      ],
      "source": [
        "def main():\n",
        "  class TemperatureConversion:\n",
        "    def __init__(self, temp=1):\n",
        "      self._temp = temp\n",
        "      self.temp = temp\n",
        "\n",
        "  class CelsiusToFahrenheit(TemperatureConversion):\n",
        "      def conversion(self):\n",
        "        return (self._temp * 9) / 5 + 32\n",
        "\n",
        "  class FahrenheitToCelsius(CelsiusToFahrenheit):\n",
        "      def conversion(self):\n",
        "        return (((self._temp * 9) / 5 + 32)-32)*(5/9)\n",
        "       \n",
        "  class CelsiusToKelvin(TemperatureConversion):\n",
        "      def conversion(self):\n",
        "        return self._temp + 273.15\n",
        "\n",
        "  class KelvinToCelsius(CelsiusToKelvin):\n",
        "      def conversion(self):\n",
        "        return (self._temp + 273.15) - 273.15\n",
        "\n",
        "\n",
        "\n",
        "  tempInCelsius = float(input('Enter the temperature in Celsius:'))\n",
        "\n",
        "  convert = CelsiusToKelvin(tempInCelsius)\n",
        "  print(str(convert.conversion()) + ' Kelvin')\n",
        "\n",
        "  convert = KelvinToCelsius(tempInCelsius)\n",
        "  print(str(convert.conversion()) + ' Celsius')\n",
        "\n",
        "  convert = CelsiusToFahrenheit(tempInCelsius)\n",
        "  print(str(convert.conversion()) + ' Fahrenheit')\n",
        "\n",
        "  convert = FahrenheitToCelsius(tempInCelsius)\n",
        "  print(str(convert.conversion()) + ' Celsius')\n",
        "\n",
        "main()"
      ]
    }
  ]
}