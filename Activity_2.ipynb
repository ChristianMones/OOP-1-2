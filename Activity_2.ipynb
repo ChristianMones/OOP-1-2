{
  "nbformat": 4,
  "nbformat_minor": 0,
  "metadata": {
    "colab": {
      "name": "Activity 2.ipynb",
      "provenance": [],
      "authorship_tag": "ABX9TyOp3iu9jXq+JvFrAquzCWnT",
      "include_colab_link": true
    },
    "kernelspec": {
      "name": "python3",
      "display_name": "Python 3"
    },
    "language_info": {
      "name": "python"
    }
  },
  "cells": [
    {
      "cell_type": "markdown",
      "metadata": {
        "id": "view-in-github",
        "colab_type": "text"
      },
      "source": [
        "<a href=\"https://colab.research.google.com/github/ChristianMones/OOP-1-2/blob/main/Activity_2.ipynb\" target=\"_parent\"><img src=\"https://colab.research.google.com/assets/colab-badge.svg\" alt=\"Open In Colab\"/></a>"
      ]
    },
    {
      "cell_type": "code",
      "execution_count": null,
      "metadata": {
        "colab": {
          "base_uri": "https://localhost:8080/"
        },
        "id": "S4ZgTO8YW7EA",
        "outputId": "4f0785bc-3617-4838-9007-ca1444e5e553"
      },
      "outputs": [
        {
          "output_type": "stream",
          "name": "stdout",
          "text": [
            "104.0\n"
          ]
        }
      ],
      "source": [
        "#Write a pyhton program that converts the temperature Celsius to Fahrenheit. Create a class name Temperature.\n",
        "#Create Clesius as attribute name, Temp() as method, and temp1 as object name.  F=1.8xC + 32\n",
        "\n",
        "class Temperature:\n",
        "  def __init__(self,Celsius):\n",
        "    self.Celsius=Celsius\n",
        "\n",
        "  def Temp(self):\n",
        "    print((1.8*self.Celsius)+32)\n",
        "\n",
        "temp1=Temperature(40)\n",
        "\n",
        "temp1.Temp()"
      ]
    },
    {
      "cell_type": "code",
      "source": [
        "#1. Define an Area() method of the class that calculates the circle’s area.\n",
        "#2. Define a Perimeter() method of the class which allows you to calculate the perimeter of the circle.\n",
        "#3. Save your python program named as “Activity 2” to your GitHub repository “OOP 1-2”\n",
        "#4. Share your GitHub link attached with this manuscript.\n",
        "\n",
        "\n",
        "class Circle:\n",
        "  def __init__(self,r):\n",
        "    self.r=r\n",
        "\n",
        "  def Area(self):\n",
        "    print(\"Area:\",3.14*self.r**2)\n",
        "\n",
        "  def Perimeter(self):\n",
        "    print(\"Perimeter\", 2*3.14*self.r)\n",
        "\n",
        "O=Circle(float(input(\"Input radius here (radius=1/2 diameter):\")))\n",
        "O.Area()\n",
        "O.Perimeter()"
      ],
      "metadata": {
        "id": "kk9XXj1MgctI",
        "colab": {
          "base_uri": "https://localhost:8080/"
        },
        "outputId": "a1460664-9a67-4576-f1bf-5988985c18bb"
      },
      "execution_count": 44,
      "outputs": [
        {
          "output_type": "stream",
          "name": "stdout",
          "text": [
            "Input radius here (radius=1/2 diameter):10\n",
            "Area: 314.0\n",
            "Perimeter 62.800000000000004\n"
          ]
        }
      ]
    }
  ]
}